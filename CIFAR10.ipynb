{
  "nbformat": 4,
  "nbformat_minor": 0,
  "metadata": {
    "colab": {
      "name": "CIFAR10.ipynb",
      "provenance": [],
      "toc_visible": true,
      "authorship_tag": "ABX9TyPbHpeM3X/L1MAsaST97zC4",
      "include_colab_link": true
    },
    "kernelspec": {
      "name": "python3",
      "display_name": "Python 3"
    },
    "language_info": {
      "name": "python"
    },
    "accelerator": "GPU"
  },
  "cells": [
    {
      "cell_type": "markdown",
      "metadata": {
        "id": "view-in-github",
        "colab_type": "text"
      },
      "source": [
        "<a href=\"https://colab.research.google.com/github/rohithebbar28/deeplearning_projects/blob/main/CIFAR10.ipynb\" target=\"_parent\"><img src=\"https://colab.research.google.com/assets/colab-badge.svg\" alt=\"Open In Colab\"/></a>"
      ]
    },
    {
      "cell_type": "code",
      "execution_count": 1,
      "metadata": {
        "id": "SHrgFV1zI4KE",
        "colab": {
          "base_uri": "https://localhost:8080/"
        },
        "outputId": "f3fef745-22ac-4444-9875-161aa904a3bd"
      },
      "outputs": [
        {
          "output_type": "stream",
          "name": "stdout",
          "text": [
            "Fri Dec 17 20:46:19 2021       \n",
            "+-----------------------------------------------------------------------------+\n",
            "| NVIDIA-SMI 495.44       Driver Version: 460.32.03    CUDA Version: 11.2     |\n",
            "|-------------------------------+----------------------+----------------------+\n",
            "| GPU  Name        Persistence-M| Bus-Id        Disp.A | Volatile Uncorr. ECC |\n",
            "| Fan  Temp  Perf  Pwr:Usage/Cap|         Memory-Usage | GPU-Util  Compute M. |\n",
            "|                               |                      |               MIG M. |\n",
            "|===============================+======================+======================|\n",
            "|   0  Tesla K80           Off  | 00000000:00:04.0 Off |                    0 |\n",
            "| N/A   65C    P8    34W / 149W |      0MiB / 11441MiB |      0%      Default |\n",
            "|                               |                      |                  N/A |\n",
            "+-------------------------------+----------------------+----------------------+\n",
            "                                                                               \n",
            "+-----------------------------------------------------------------------------+\n",
            "| Processes:                                                                  |\n",
            "|  GPU   GI   CI        PID   Type   Process name                  GPU Memory |\n",
            "|        ID   ID                                                   Usage      |\n",
            "|=============================================================================|\n",
            "|  No running processes found                                                 |\n",
            "+-----------------------------------------------------------------------------+\n"
          ]
        }
      ],
      "source": [
        "!nvidia-smi"
      ]
    },
    {
      "cell_type": "code",
      "source": [
        "# check for GPU using tensorflow\n",
        "import tensorflow as tf\n",
        "tf.config.list_physical_devices()"
      ],
      "metadata": {
        "colab": {
          "base_uri": "https://localhost:8080/"
        },
        "id": "zGnbAAONJQrE",
        "outputId": "afade636-ed73-4e94-bc60-02d5b5166541"
      },
      "execution_count": 2,
      "outputs": [
        {
          "output_type": "execute_result",
          "data": {
            "text/plain": [
              "[PhysicalDevice(name='/physical_device:CPU:0', device_type='CPU'),\n",
              " PhysicalDevice(name='/physical_device:GPU:0', device_type='GPU')]"
            ]
          },
          "metadata": {},
          "execution_count": 2
        }
      ]
    },
    {
      "cell_type": "markdown",
      "source": [
        "**Setup Hyperparameters**\n",
        "\n",
        "Change these to suit your needs\n",
        "\n",
        "The main one will be the device you are running on"
      ],
      "metadata": {
        "id": "ANhIVpDFJqKk"
      }
    },
    {
      "cell_type": "code",
      "source": [
        "# setup hyperparameters\n",
        "BATCH_SIZE = 32 \n",
        "EPOCHS = 10\n",
        "DATASET_NAME = 'cifar10'\n",
        "DEVICE = 'Google Colab (K80 GPU)'"
      ],
      "metadata": {
        "id": "yEHa4da2J93L"
      },
      "execution_count": 3,
      "outputs": []
    },
    {
      "cell_type": "code",
      "source": [
        "# Get helper functions\n",
        "import os\n",
        "import requests\n",
        "\n",
        "if not os.path.exists(\"helper_functions.py\"):\n",
        "  print(\"Downloading helper functions....\")\n",
        "  r = requests.get(\"https://raw.githubusercontent.com/mrdbourke/m1-machine-learning-test/main/helper_functions.py\")\n",
        "  print(\" Writing helper_functions to file....\")\n",
        "  open(\"helper_functions.py\", \"wb\").write(r.content)\n",
        "else:\n",
        "  print(\"Helper functions are already downloaded, skipping redownload\")"
      ],
      "metadata": {
        "colab": {
          "base_uri": "https://localhost:8080/"
        },
        "id": "ibUjC8H8KT44",
        "outputId": "759f3bfb-cf78-453d-f9c5-c4c202d24f2b"
      },
      "execution_count": 4,
      "outputs": [
        {
          "output_type": "stream",
          "name": "stdout",
          "text": [
            "Downloading helper functions....\n",
            " Writing helper_functions to file....\n"
          ]
        }
      ]
    },
    {
      "cell_type": "code",
      "source": [
        "import tensorflow as tf\n",
        "print(tf.__version__)\n",
        "\n",
        "# get tensorflow datasets\n",
        "import tensorflow_datasets as tfds\n",
        "\n",
        "#get libraries\n",
        "import pandas as pd\n",
        "import numpy as np\n",
        "import matplotlib.pyplot as plt\n",
        "\n",
        "from tensorflow.keras import layers\n",
        "from timeit import default_timer as timer\n",
        "from helper_functions import print_train_time"
      ],
      "metadata": {
        "colab": {
          "base_uri": "https://localhost:8080/"
        },
        "id": "GBTuESJ1ORdF",
        "outputId": "1170fda5-53b6-4bc5-eb51-90937995c806"
      },
      "execution_count": 5,
      "outputs": [
        {
          "output_type": "stream",
          "name": "stdout",
          "text": [
            "2.7.0\n"
          ]
        }
      ]
    },
    {
      "cell_type": "code",
      "source": [
        "(train_images, train_labels), (test_images, test_labels) = tf.keras.datasets.cifar10.load_data()\n",
        "\n",
        "train_images, test_images = train_images / 255.0 , test_images / 255.0"
      ],
      "metadata": {
        "colab": {
          "base_uri": "https://localhost:8080/"
        },
        "id": "ThJNeCUhUIhC",
        "outputId": "50f9fdd8-3580-400a-e611-fd8837456e54"
      },
      "execution_count": 6,
      "outputs": [
        {
          "output_type": "stream",
          "name": "stdout",
          "text": [
            "Downloading data from https://www.cs.toronto.edu/~kriz/cifar-10-python.tar.gz\n",
            "170500096/170498071 [==============================] - 3s 0us/step\n",
            "170508288/170498071 [==============================] - 3s 0us/step\n"
          ]
        }
      ]
    },
    {
      "cell_type": "code",
      "source": [
        "class_names = ['airplane','automobile','bird','cat','deer','dog','frog','horse','ship','truck']"
      ],
      "metadata": {
        "id": "Dq2A6tu5U5nE"
      },
      "execution_count": 7,
      "outputs": []
    },
    {
      "cell_type": "code",
      "source": [
        "image = train_images[1]\n",
        "label = int(train_labels[1])\n",
        "\n",
        "print(f\"\"\"\n",
        "     image shape : {image.shape}\n",
        "     image dtype : {image.dtype}\n",
        "     image class from food01: {label}\n",
        "     class name (str form) : {class_names[label]}\n",
        "     \"\"\" )\n",
        "plt.imshow(image)\n",
        "plt.title(class_names[label])\n",
        "plt.axis(False);"
      ],
      "metadata": {
        "colab": {
          "base_uri": "https://localhost:8080/",
          "height": 366
        },
        "id": "mMUiNfCjVKRX",
        "outputId": "5259be65-c535-462d-a195-622b799f1837"
      },
      "execution_count": 9,
      "outputs": [
        {
          "output_type": "stream",
          "name": "stdout",
          "text": [
            "\n",
            "     image shape : (32, 32, 3)\n",
            "     image dtype : float64\n",
            "     image class from food01: 9\n",
            "     class name (str form) : truck\n",
            "     \n"
          ]
        },
        {
          "output_type": "display_data",
          "data": {
            "image/png": "[encoded data removed]",
            "text/plain": [
              "<Figure size 432x288 with 1 Axes>"
            ]
          },
          "metadata": {
            "needs_background": "light"
          }
        }
      ]
    },
    {
      "cell_type": "code",
      "source": [
        "train_data = tf.data.Dataset.from_tensor_slices((train_images, train_labels))\n",
        "test_data = tf.data.Dataset.from_tensor_slices((test_images, test_labels))\n",
        "\n",
        "#Make datasets faster\n",
        "train_data = train_data.batch(BATCH_SIZE).prefetch(tf.data.AUTOTUNE)\n",
        "test_data = test_data.batch(BATCH_SIZE).prefetch(tf.data.AUTOTUNE)\n",
        "\n",
        "train_data, test_data, len(train_data), len(test_data)"
      ],
      "metadata": {
        "colab": {
          "base_uri": "https://localhost:8080/"
        },
        "id": "h3Dc10QsV3mB",
        "outputId": "54afd33d-d388-4a06-bcfc-de87f7f41eb8"
      },
      "execution_count": 10,
      "outputs": [
        {
          "output_type": "execute_result",
          "data": {
            "text/plain": [
              "(<PrefetchDataset shapes: ((None, 32, 32, 3), (None, 1)), types: (tf.float64, tf.uint8)>,\n",
              " <PrefetchDataset shapes: ((None, 32, 32, 3), (None, 1)), types: (tf.float64, tf.uint8)>,\n",
              " 1563,\n",
              " 313)"
            ]
          },
          "metadata": {},
          "execution_count": 10
        }
      ]
    },
    {
      "cell_type": "code",
      "source": [
        "# setup random seed\n",
        "tf.random.set_seed(42)\n",
        "\n",
        "#start time\n",
        "start_time = timer()\n",
        "\n",
        "# create a CNN model \n",
        "model = tf.keras.models.Sequential(\n",
        "    [\n",
        "     tf.keras.layers.Conv2D(filters=10,\n",
        "                            kernel_size = 3,\n",
        "                            activation = 'relu',\n",
        "                            input_shape=(32, 32, 3)),\n",
        "     tf.keras.layers.Conv2D(10, 3, activation = 'relu'),\n",
        "     tf.keras.layers.MaxPool2D(pool_size=2, padding = \"valid\"),\n",
        "     tf.keras.layers.Conv2D(10, 3, activation='relu'),\n",
        "     tf.keras.layers.Conv2D(10, 3, activation='relu'),\n",
        "     tf.keras.layers.MaxPool2D(2),\n",
        "     tf.keras.layers.Flatten(),\n",
        "     tf.keras.layers.Dense(10, activation='softmax')\n",
        "    ], name='TinyVCG')\n",
        "\n",
        "# compile the model\n",
        "model.compile(loss='sparse_categorical_crossentropy', \n",
        "              optimizer=tf.keras.optimizers.Adam(),metrics=['accuracy'])\n",
        "\n",
        "#fit model\n",
        "history = model.fit(train_data, epochs=EPOCHS, steps_per_epoch = len(train_data),\n",
        "                    validation_data=test_data, validation_steps=len(test_data))\n",
        "\n",
        "# track time\n",
        "end_time = timer()\n",
        "train_time = print_train_time(start_time, end_time, device=DEVICE)\n",
        "\n"
      ],
      "metadata": {
        "colab": {
          "base_uri": "https://localhost:8080/"
        },
        "id": "MX6qkXfYWo_k",
        "outputId": "67ec19fe-3e9d-401b-a7ff-76d0dea82ef8"
      },
      "execution_count": 12,
      "outputs": [
        {
          "output_type": "stream",
          "name": "stdout",
          "text": [
            "Epoch 1/10\n",
            "1563/1563 [==============================] - 22s 8ms/step - loss: 1.7037 - accuracy: 0.3809 - val_loss: 1.5031 - val_accuracy: 0.4634\n",
            "Epoch 2/10\n",
            "1563/1563 [==============================] - 12s 8ms/step - loss: 1.4281 - accuracy: 0.4897 - val_loss: 1.3824 - val_accuracy: 0.5080\n",
            "Epoch 3/10\n",
            "1563/1563 [==============================] - 17s 11ms/step - loss: 1.3318 - accuracy: 0.5278 - val_loss: 1.3041 - val_accuracy: 0.5366\n",
            "Epoch 4/10\n",
            "1563/1563 [==============================] - 16s 10ms/step - loss: 1.2656 - accuracy: 0.5531 - val_loss: 1.2564 - val_accuracy: 0.5533\n",
            "Epoch 5/10\n",
            "1563/1563 [==============================] - 13s 8ms/step - loss: 1.2176 - accuracy: 0.5702 - val_loss: 1.2312 - val_accuracy: 0.5653\n",
            "Epoch 6/10\n",
            "1563/1563 [==============================] - 18s 12ms/step - loss: 1.1821 - accuracy: 0.5833 - val_loss: 1.2067 - val_accuracy: 0.5730\n",
            "Epoch 7/10\n",
            "1563/1563 [==============================] - 18s 11ms/step - loss: 1.1535 - accuracy: 0.5936 - val_loss: 1.1869 - val_accuracy: 0.5816\n",
            "Epoch 8/10\n",
            "1563/1563 [==============================] - 17s 11ms/step - loss: 1.1281 - accuracy: 0.6036 - val_loss: 1.1671 - val_accuracy: 0.5891\n",
            "Epoch 9/10\n",
            "1563/1563 [==============================] - 18s 12ms/step - loss: 1.1050 - accuracy: 0.6128 - val_loss: 1.1446 - val_accuracy: 0.5969\n",
            "Epoch 10/10\n",
            "1563/1563 [==============================] - 19s 12ms/step - loss: 1.0838 - accuracy: 0.6204 - val_loss: 1.1235 - val_accuracy: 0.6061\n",
            "\n",
            "Train time on Google Colab (K80 GPU): 187.400 seconds\n"
          ]
        }
      ]
    },
    {
      "cell_type": "code",
      "source": [
        "results = {\n",
        "    \"device\": DEVICE,\n",
        "    \"dataset_name\": DATASET_NAME,\n",
        "    \"epochs\": EPOCHS,\n",
        "    \"batch_size\":BATCH_SIZE,\n",
        "    \"num_train_samples\": len(train_data)*BATCH_SIZE,\n",
        "    \"num_test_samples\": len(test_data)*BATCH_SIZE,\n",
        "    \"total_train_time\": round(train_time, 3),\n",
        "    \"time_per_epoch\": round(train_time/EPOCHS, 3),\n",
        "    \"model\": model.name\n",
        "}\n",
        "results_df = pd.DataFrame(results, index=[0])\n",
        "results_df"
      ],
      "metadata": {
        "colab": {
          "base_uri": "https://localhost:8080/",
          "height": 80
        },
        "id": "BArKqdVKYLPK",
        "outputId": "11f6c85f-d12c-47e0-e725-117f3faa1707"
      },
      "execution_count": 17,
      "outputs": [
        {
          "output_type": "execute_result",
          "data": {
            "text/html": [
              "\n",
              "  <div id=\"df-731b53c9-9e29-4cb0-927c-106a5fe89a5e\">\n",
              "    <div class=\"colab-df-container\">\n",
              "      <div>\n",
              "<style scoped>\n",
              "    .dataframe tbody tr th:only-of-type {\n",
              "        vertical-align: middle;\n",
              "    }\n",
              "\n",
              "    .dataframe tbody tr th {\n",
              "        vertical-align: top;\n",
              "    }\n",
              "\n",
              "    .dataframe thead th {\n",
              "        text-align: right;\n",
              "    }\n",
              "</style>\n",
              "<table border=\"1\" class=\"dataframe\">\n",
              "  <thead>\n",
              "    <tr style=\"text-align: right;\">\n",
              "      <th></th>\n",
              "      <th>device</th>\n",
              "      <th>dataset_name</th>\n",
              "      <th>epochs</th>\n",
              "      <th>batch_size</th>\n",
              "      <th>num_train_samples</th>\n",
              "      <th>num_test_samples</th>\n",
              "      <th>total_train_time</th>\n",
              "      <th>time_per_epoch</th>\n",
              "      <th>model</th>\n",
              "    </tr>\n",
              "  </thead>\n",
              "  <tbody>\n",
              "    <tr>\n",
              "      <th>0</th>\n",
              "      <td>Google Colab (K80 GPU)</td>\n",
              "      <td>cifar10</td>\n",
              "      <td>10</td>\n",
              "      <td>32</td>\n",
              "      <td>50016</td>\n",
              "      <td>10016</td>\n",
              "      <td>187.4</td>\n",
              "      <td>18.74</td>\n",
              "      <td>TinyVCG</td>\n",
              "    </tr>\n",
              "  </tbody>\n",
              "</table>\n",
              "</div>\n",
              "      <button class=\"colab-df-convert\" onclick=\"convertToInteractive('df-731b53c9-9e29-4cb0-927c-106a5fe89a5e')\"\n",
              "              title=\"Convert this dataframe to an interactive table.\"\n",
              "              style=\"display:none;\">\n",
              "        \n",
              "  <svg xmlns=\"http://www.w3.org/2000/svg\" height=\"24px\"viewBox=\"0 0 24 24\"\n",
              "       width=\"24px\">\n",
              "    <path d=\"M0 0h24v24H0V0z\" fill=\"none\"/>\n",
              "    <path d=\"M18.56 5.44l.94 2.06.94-2.06 2.06-.94-2.06-.94-.94-2.06-.94 2.06-2.06.94zm-11 1L8.5 8.5l.94-2.06 2.06-.94-2.06-.94L8.5 2.5l-.94 2.06-2.06.94zm10 10l.94 2.06.94-2.06 2.06-.94-2.06-.94-.94-2.06-.94 2.06-2.06.94z\"/><path d=\"M17.41 7.96l-1.37-1.37c-.4-.4-.92-.59-1.43-.59-.52 0-1.04.2-1.43.59L10.3 9.45l-7.72 7.72c-.78.78-.78 2.05 0 2.83L4 21.41c.39.39.9.59 1.41.59.51 0 1.02-.2 1.41-.59l7.78-7.78 2.81-2.81c.8-.78.8-2.07 0-2.86zM5.41 20L4 18.59l7.72-7.72 1.47 1.35L5.41 20z\"/>\n",
              "  </svg>\n",
              "      </button>\n",
              "      \n",
              "  <style>\n",
              "    .colab-df-container {\n",
              "      display:flex;\n",
              "      flex-wrap:wrap;\n",
              "      gap: 12px;\n",
              "    }\n",
              "\n",
              "    .colab-df-convert {\n",
              "      background-color: #E8F0FE;\n",
              "      border: none;\n",
              "      border-radius: 50%;\n",
              "      cursor: pointer;\n",
              "      display: none;\n",
              "      fill: #1967D2;\n",
              "      height: 32px;\n",
              "      padding: 0 0 0 0;\n",
              "      width: 32px;\n",
              "    }\n",
              "\n",
              "    .colab-df-convert:hover {\n",
              "      background-color: #E2EBFA;\n",
              "      box-shadow: 0px 1px 2px rgba(60, 64, 67, 0.3), 0px 1px 3px 1px rgba(60, 64, 67, 0.15);\n",
              "      fill: #174EA6;\n",
              "    }\n",
              "\n",
              "    [theme=dark] .colab-df-convert {\n",
              "      background-color: #3B4455;\n",
              "      fill: #D2E3FC;\n",
              "    }\n",
              "\n",
              "    [theme=dark] .colab-df-convert:hover {\n",
              "      background-color: #434B5C;\n",
              "      box-shadow: 0px 1px 3px 1px rgba(0, 0, 0, 0.15);\n",
              "      filter: drop-shadow(0px 1px 2px rgba(0, 0, 0, 0.3));\n",
              "      fill: #FFFFFF;\n",
              "    }\n",
              "  </style>\n",
              "\n",
              "      <script>\n",
              "        const buttonEl =\n",
              "          document.querySelector('#df-731b53c9-9e29-4cb0-927c-106a5fe89a5e button.colab-df-convert');\n",
              "        buttonEl.style.display =\n",
              "          google.colab.kernel.accessAllowed ? 'block' : 'none';\n",
              "\n",
              "        async function convertToInteractive(key) {\n",
              "          const element = document.querySelector('#df-731b53c9-9e29-4cb0-927c-106a5fe89a5e');\n",
              "          const dataTable =\n",
              "            await google.colab.kernel.invokeFunction('convertToInteractive',\n",
              "                                                     [key], {});\n",
              "          if (!dataTable) return;\n",
              "\n",
              "          const docLinkHtml = 'Like what you see? Visit the ' +\n",
              "            '<a target=\"_blank\" href=https://colab.research.google.com/notebooks/data_table.ipynb>data table notebook</a>'\n",
              "            + ' to learn more about interactive tables.';\n",
              "          element.innerHTML = '';\n",
              "          dataTable['output_type'] = 'display_data';\n",
              "          await google.colab.output.renderOutput(dataTable, element);\n",
              "          const docLink = document.createElement('div');\n",
              "          docLink.innerHTML = docLinkHtml;\n",
              "          element.appendChild(docLink);\n",
              "        }\n",
              "      </script>\n",
              "    </div>\n",
              "  </div>\n",
              "  "
            ],
            "text/plain": [
              "                   device dataset_name  ...  time_per_epoch    model\n",
              "0  Google Colab (K80 GPU)      cifar10  ...           18.74  TinyVCG\n",
              "\n",
              "[1 rows x 9 columns]"
            ]
          },
          "metadata": {},
          "execution_count": 17
        }
      ]
    },
    {
      "cell_type": "code",
      "source": [
        ""
      ],
      "metadata": {
        "id": "3ZPlcrzJbSFC"
      },
      "execution_count": null,
      "outputs": []
    }
  ]
}